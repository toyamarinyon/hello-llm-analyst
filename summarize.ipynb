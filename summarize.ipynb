{
 "cells": [
  {
   "cell_type": "code",
   "execution_count": 1,
   "id": "5abf57dd-f407-47ff-8bd0-cf5137d99bfa",
   "metadata": {},
   "outputs": [
    {
     "name": "stdout",
     "output_type": "stream",
     "text": [
      "\n",
      "\u001b[1m[\u001b[0m\u001b[34;49mnotice\u001b[0m\u001b[1;39;49m]\u001b[0m\u001b[39;49m A new release of pip is available: \u001b[0m\u001b[31;49m23.0.1\u001b[0m\u001b[39;49m -> \u001b[0m\u001b[32;49m24.0\u001b[0m\n",
      "\u001b[1m[\u001b[0m\u001b[34;49mnotice\u001b[0m\u001b[1;39;49m]\u001b[0m\u001b[39;49m To update, run: \u001b[0m\u001b[32;49mpip install --upgrade pip\u001b[0m\n",
      "Note: you may need to restart the kernel to use updated packages.\n"
     ]
    }
   ],
   "source": [
    "%pip install --upgrade --quiet  langchain-openai tiktoken langchain"
   ]
  },
  {
   "cell_type": "code",
   "execution_count": 9,
   "id": "66b96e5e-1120-4177-bdae-4722e8c67151",
   "metadata": {},
   "outputs": [
    {
     "data": {
      "text/plain": [
       "'The text discusses the use of large language models (LLMs) to build autonomous agents for enterprise companies. It explains the different components of these agent systems, including planning, memory, and tool use. The planning component involves task decomposition and self-reflection to improve decision-making. The memory component includes sensory memory, short-term memory, and long-term memory, with a focus on using external vector stores for fast retrieval. The tool use component allows agents to call external APIs for additional information and capabilities. The text provides case studies and proof-of-concept examples of LLM-powered agents in scientific discovery, generative agents simulation, and code generation. It also highlights challenges such as finite context length, planning and task decomposition limitations, and the reliability of natural language interfaces. The text concludes with a citation and references for further reading.'"
      ]
     },
     "execution_count": 9,
     "metadata": {},
     "output_type": "execute_result"
    }
   ],
   "source": [
    "from langchain.chains import MapReduceDocumentsChain, ReduceDocumentsChain\n",
    "from langchain.text_splitter import RecursiveCharacterTextSplitter\n",
    "from langchain.prompts import PromptTemplate\n",
    "from langchain.chains.llm import LLMChain\n",
    "\n",
    "loader = WebBaseLoader(\"https://lilianweng.github.io/posts/2023-06-23-agent/\")\n",
    "docs = loader.load()\n",
    "\n",
    "llm = ChatOpenAI(temperature = 0, model = \"gpt-3.5-turbo-16k-0613\")\n",
    "\n",
    "\n",
    "map_prompt = \"\"\"\n",
    "Write a summary of the following text for {objective}:\n",
    "\"{text}\"\n",
    "SUMMARY:\n",
    "\"\"\"\n",
    "map_prompt_template = PromptTemplate(template=map_prompt, input_variables=[\"text\", \"objective\"])\n",
    "\n",
    "summary_chain = load_summarize_chain(\n",
    "    llm=llm,\n",
    "    chain_type='map_reduce',\n",
    "    map_prompt = map_prompt_template,\n",
    "    combine_prompt = map_prompt_template,\n",
    "    verbose = False\n",
    ")\n",
    "\n",
    "objective = \"Proposal materials for enterprise companies\"\n",
    "\n",
    "output = summary_chain.run(input_documents=docs, objective=objective)\n",
    "output"
   ]
  },
  {
   "cell_type": "code",
   "execution_count": null,
   "id": "6099603f-c562-416e-8f79-557a1f2b6c66",
   "metadata": {},
   "outputs": [],
   "source": []
  }
 ],
 "metadata": {
  "kernelspec": {
   "display_name": "Python 3 (ipykernel)",
   "language": "python",
   "name": "python3"
  },
  "language_info": {
   "codemirror_mode": {
    "name": "ipython",
    "version": 3
   },
   "file_extension": ".py",
   "mimetype": "text/x-python",
   "name": "python",
   "nbconvert_exporter": "python",
   "pygments_lexer": "ipython3",
   "version": "3.10.13"
  }
 },
 "nbformat": 4,
 "nbformat_minor": 5
}
